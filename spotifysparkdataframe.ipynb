{
 "cells": [
  {
   "cell_type": "code",
   "execution_count": 50,
   "metadata": {},
   "outputs": [],
   "source": [
    "#import modules\n",
    "import pyspark"
   ]
  },
  {
   "cell_type": "code",
   "execution_count": 51,
   "metadata": {},
   "outputs": [],
   "source": [
    "#start a pyspark session\n",
    "from pyspark.sql import SparkSession"
   ]
  },
  {
   "cell_type": "code",
   "execution_count": 52,
   "metadata": {},
   "outputs": [],
   "source": [
    "spark=SparkSession.builder.appName('practiceML').getOrCreate()"
   ]
  },
  {
   "cell_type": "code",
   "execution_count": 53,
   "metadata": {},
   "outputs": [],
   "source": [
    "training = spark.read.csv(r\"C:\\Users\\User\\Documents\\spotify\\top 100 streamed songs.csv\", header = True, inferSchema = True)"
   ]
  },
  {
   "cell_type": "code",
   "execution_count": 54,
   "metadata": {},
   "outputs": [
    {
     "name": "stdout",
     "output_type": "stream",
     "text": [
      "+--------------------+--------------------+--------+------+---+--------+----+-----------+------------+----------------+--------+-------+-------+------------+\n",
      "|                  id|                name|duration|energy|key|loudness|mode|speechiness|acousticness|instrumentalness|liveness|valence|  tempo|danceability|\n",
      "+--------------------+--------------------+--------+------+---+--------+----+-----------+------------+----------------+--------+-------+-------+------------+\n",
      "|4ZtFanR9U6ndgddUv...|Good 4 U Olivia R...|    2.97| 0.664|  9|  -5.044|   1|      0.154|       0.335|             0.0|  0.0849|  0.688|166.928|       0.563|\n",
      "|5fxyZf6m2xHeSrOzU...|Stay The Kid LARO...|     2.3| 0.506|  8| -11.275|   1|     0.0589|       0.379|           0.868|    0.11|  0.454|170.054|       0.564|\n",
      "|5nujrmhLynf4yMoMt...|Levitating Dua Li...|    3.38| 0.825|  6|  -3.787|   0|     0.0601|     0.00883|             0.0|  0.0674|  0.915|102.977|       0.702|\n",
      "|4iJyoBOLtHqaGxP12...|Peaches Justin Bi...|     3.3| 0.696|  0|  -6.181|   1|      0.119|       0.321|             0.0|    0.42|  0.464|  90.03|       0.677|\n",
      "|1SC5rEoYDGUK4NfG8...|Montero (Call Me ...|     2.3| 0.503|  8|  -6.725|   0|       0.22|       0.293|             0.0|   0.405|   0.71|178.781|       0.593|\n",
      "|3DarAbFujv6eYNliU...|Kiss Me More (fea...|    3.48| 0.705|  8|  -3.463|   1|     0.0284|       0.259|         8.92E-5|    0.12|  0.781| 110.97|       0.764|\n",
      "|02VBYrHfVwfEWXk5D...|Leave The Door Op...|    4.03| 0.616|  5|  -7.964|   1|     0.0324|       0.182|             0.0|  0.0927|  0.719|148.088|       0.586|\n",
      "|5wANPM4fQCJwkGd4r...|drivers license O...|    4.03| 0.431| 10|   -8.81|   1|     0.0578|       0.768|         1.42E-5|   0.106|  0.137|143.875|       0.561|\n",
      "|0VjIjW4GlUZAMYd2v...|Blinding Lights T...|    3.33|  0.73|  1|  -5.934|   1|     0.0598|     0.00146|         9.54E-5|  0.0897|  0.334|171.005|       0.514|\n",
      "|6HU7h9RYOaPRFeh0R...|Deja Vu Olivia Ro...|    3.59| 0.612|  2|  -7.222|   1|      0.112|       0.584|          5.7E-6|    0.37|  0.178|180.917|       0.442|\n",
      "|6f3Slt0GbA2bPZlz0...| The Business Tiësto|    2.73|  0.62|  8|  -7.079|   0|      0.232|       0.414|          0.0192|   0.112|  0.235|120.031|       0.798|\n",
      "|3Ofmpyhv5UAQ70mEN...|Astronaut In The ...|    2.21| 0.695|  4|  -6.865|   0|     0.0913|       0.175|             0.0|    0.15|  0.472|149.996|       0.778|\n",
      "|18vXApRmJSgQ6wG2l...|      Rapstar Polo G|    2.77| 0.536|  6|  -6.862|   1|      0.242|        0.41|             0.0|   0.129|  0.437| 81.039|       0.789|\n",
      "|5zFglKYiknIxks8ge...|Beautiful Mistake...|    3.79| 0.676| 10|  -5.483|   1|      0.027|      0.0377|             0.0|   0.154|  0.721| 99.048|       0.713|\n",
      "|27tDoZsybt3KvJWTD...|Heartbreak Annive...|    3.31| 0.459|  0|  -8.955|   1|      0.074|       0.546|         1.05E-6|   0.307|  0.565| 87.064|       0.443|\n",
      "|02MWAaffLxlfxAUY7...|Heat Waves Glass ...|    3.98| 0.525| 11|    -6.9|   1|     0.0944|        0.44|          6.7E-6|  0.0921|  0.531|  80.87|       0.761|\n",
      "|7mmYQV0o7sW0pM8rN...|Without You (with...|    2.71|  0.42|  0|   -7.98|   1|     0.0334|       0.834|           0.927|   0.264|  0.603| 90.995|       0.569|\n",
      "|4jPy3l0RUwlUI9T5X...|Mood (feat. iann ...|    2.34| 0.716|  7|  -3.671|   0|     0.0361|       0.174|             0.0|   0.324|  0.732| 91.007|       0.701|\n",
      "|7tZHEwEYKcI3kJLi9...|Fiel Los Legendar...|    4.27|  0.43|  6|  -7.477|   0|     0.0255|       0.735|           0.941|   0.124|    0.3| 97.976|       0.685|\n",
      "|6UelLqGlWMcVH1E5c...|Watermelon Sugar ...|     2.9| 0.816|  0|  -4.209|   1|     0.0465|       0.122|             0.0|   0.335|  0.557|  95.39|       0.548|\n",
      "+--------------------+--------------------+--------+------+---+--------+----+-----------+------------+----------------+--------+-------+-------+------------+\n",
      "only showing top 20 rows\n",
      "\n"
     ]
    }
   ],
   "source": [
    "training.show()"
   ]
  },
  {
   "cell_type": "code",
   "execution_count": 55,
   "metadata": {},
   "outputs": [
    {
     "name": "stdout",
     "output_type": "stream",
     "text": [
      "root\n",
      " |-- id: string (nullable = true)\n",
      " |-- name: string (nullable = true)\n",
      " |-- duration: double (nullable = true)\n",
      " |-- energy: double (nullable = true)\n",
      " |-- key: integer (nullable = true)\n",
      " |-- loudness: double (nullable = true)\n",
      " |-- mode: integer (nullable = true)\n",
      " |-- speechiness: double (nullable = true)\n",
      " |-- acousticness: double (nullable = true)\n",
      " |-- instrumentalness: double (nullable = true)\n",
      " |-- liveness: double (nullable = true)\n",
      " |-- valence: double (nullable = true)\n",
      " |-- tempo: double (nullable = true)\n",
      " |-- danceability: double (nullable = true)\n",
      "\n"
     ]
    }
   ],
   "source": [
    "training.printSchema()"
   ]
  },
  {
   "cell_type": "code",
   "execution_count": 56,
   "metadata": {},
   "outputs": [
    {
     "data": {
      "text/plain": [
       "['id',\n",
       " 'name',\n",
       " 'duration',\n",
       " 'energy',\n",
       " 'key',\n",
       " 'loudness',\n",
       " 'mode',\n",
       " 'speechiness',\n",
       " 'acousticness',\n",
       " 'instrumentalness',\n",
       " 'liveness',\n",
       " 'valence',\n",
       " 'tempo',\n",
       " 'danceability']"
      ]
     },
     "execution_count": 56,
     "metadata": {},
     "output_type": "execute_result"
    }
   ],
   "source": [
    "training.columns"
   ]
  },
  {
   "cell_type": "code",
   "execution_count": 57,
   "metadata": {},
   "outputs": [],
   "source": [
    "from pyspark.ml.feature import VectorAssembler\n",
    "featureassembler=VectorAssembler(inputCols=['tempo', 'danceability'])"
   ]
  },
  {
   "cell_type": "code",
   "execution_count": 58,
   "metadata": {},
   "outputs": [],
   "source": [
    "output = featureassembler.transform(training)"
   ]
  },
  {
   "cell_type": "code",
   "execution_count": 59,
   "metadata": {},
   "outputs": [
    {
     "name": "stdout",
     "output_type": "stream",
     "text": [
      "+--------------------+--------------------+--------+------+---+--------+----+-----------+------------+----------------+--------+-------+-------+------------+------------------------------------+\n",
      "|                  id|                name|duration|energy|key|loudness|mode|speechiness|acousticness|instrumentalness|liveness|valence|  tempo|danceability|VectorAssembler_f7f01a017ef1__output|\n",
      "+--------------------+--------------------+--------+------+---+--------+----+-----------+------------+----------------+--------+-------+-------+------------+------------------------------------+\n",
      "|4ZtFanR9U6ndgddUv...|Good 4 U Olivia R...|    2.97| 0.664|  9|  -5.044|   1|      0.154|       0.335|             0.0|  0.0849|  0.688|166.928|       0.563|                     [166.928,0.563]|\n",
      "|5fxyZf6m2xHeSrOzU...|Stay The Kid LARO...|     2.3| 0.506|  8| -11.275|   1|     0.0589|       0.379|           0.868|    0.11|  0.454|170.054|       0.564|                     [170.054,0.564]|\n",
      "|5nujrmhLynf4yMoMt...|Levitating Dua Li...|    3.38| 0.825|  6|  -3.787|   0|     0.0601|     0.00883|             0.0|  0.0674|  0.915|102.977|       0.702|                     [102.977,0.702]|\n",
      "|4iJyoBOLtHqaGxP12...|Peaches Justin Bi...|     3.3| 0.696|  0|  -6.181|   1|      0.119|       0.321|             0.0|    0.42|  0.464|  90.03|       0.677|                       [90.03,0.677]|\n",
      "|1SC5rEoYDGUK4NfG8...|Montero (Call Me ...|     2.3| 0.503|  8|  -6.725|   0|       0.22|       0.293|             0.0|   0.405|   0.71|178.781|       0.593|                     [178.781,0.593]|\n",
      "|3DarAbFujv6eYNliU...|Kiss Me More (fea...|    3.48| 0.705|  8|  -3.463|   1|     0.0284|       0.259|         8.92E-5|    0.12|  0.781| 110.97|       0.764|                      [110.97,0.764]|\n",
      "|02VBYrHfVwfEWXk5D...|Leave The Door Op...|    4.03| 0.616|  5|  -7.964|   1|     0.0324|       0.182|             0.0|  0.0927|  0.719|148.088|       0.586|                     [148.088,0.586]|\n",
      "|5wANPM4fQCJwkGd4r...|drivers license O...|    4.03| 0.431| 10|   -8.81|   1|     0.0578|       0.768|         1.42E-5|   0.106|  0.137|143.875|       0.561|                     [143.875,0.561]|\n",
      "|0VjIjW4GlUZAMYd2v...|Blinding Lights T...|    3.33|  0.73|  1|  -5.934|   1|     0.0598|     0.00146|         9.54E-5|  0.0897|  0.334|171.005|       0.514|                     [171.005,0.514]|\n",
      "|6HU7h9RYOaPRFeh0R...|Deja Vu Olivia Ro...|    3.59| 0.612|  2|  -7.222|   1|      0.112|       0.584|          5.7E-6|    0.37|  0.178|180.917|       0.442|                     [180.917,0.442]|\n",
      "|6f3Slt0GbA2bPZlz0...| The Business Tiësto|    2.73|  0.62|  8|  -7.079|   0|      0.232|       0.414|          0.0192|   0.112|  0.235|120.031|       0.798|                     [120.031,0.798]|\n",
      "|3Ofmpyhv5UAQ70mEN...|Astronaut In The ...|    2.21| 0.695|  4|  -6.865|   0|     0.0913|       0.175|             0.0|    0.15|  0.472|149.996|       0.778|                     [149.996,0.778]|\n",
      "|18vXApRmJSgQ6wG2l...|      Rapstar Polo G|    2.77| 0.536|  6|  -6.862|   1|      0.242|        0.41|             0.0|   0.129|  0.437| 81.039|       0.789|                      [81.039,0.789]|\n",
      "|5zFglKYiknIxks8ge...|Beautiful Mistake...|    3.79| 0.676| 10|  -5.483|   1|      0.027|      0.0377|             0.0|   0.154|  0.721| 99.048|       0.713|                      [99.048,0.713]|\n",
      "|27tDoZsybt3KvJWTD...|Heartbreak Annive...|    3.31| 0.459|  0|  -8.955|   1|      0.074|       0.546|         1.05E-6|   0.307|  0.565| 87.064|       0.443|                      [87.064,0.443]|\n",
      "|02MWAaffLxlfxAUY7...|Heat Waves Glass ...|    3.98| 0.525| 11|    -6.9|   1|     0.0944|        0.44|          6.7E-6|  0.0921|  0.531|  80.87|       0.761|                       [80.87,0.761]|\n",
      "|7mmYQV0o7sW0pM8rN...|Without You (with...|    2.71|  0.42|  0|   -7.98|   1|     0.0334|       0.834|           0.927|   0.264|  0.603| 90.995|       0.569|                      [90.995,0.569]|\n",
      "|4jPy3l0RUwlUI9T5X...|Mood (feat. iann ...|    2.34| 0.716|  7|  -3.671|   0|     0.0361|       0.174|             0.0|   0.324|  0.732| 91.007|       0.701|                      [91.007,0.701]|\n",
      "|7tZHEwEYKcI3kJLi9...|Fiel Los Legendar...|    4.27|  0.43|  6|  -7.477|   0|     0.0255|       0.735|           0.941|   0.124|    0.3| 97.976|       0.685|                      [97.976,0.685]|\n",
      "|6UelLqGlWMcVH1E5c...|Watermelon Sugar ...|     2.9| 0.816|  0|  -4.209|   1|     0.0465|       0.122|             0.0|   0.335|  0.557|  95.39|       0.548|                       [95.39,0.548]|\n",
      "+--------------------+--------------------+--------+------+---+--------+----+-----------+------------+----------------+--------+-------+-------+------------+------------------------------------+\n",
      "only showing top 20 rows\n",
      "\n"
     ]
    }
   ],
   "source": [
    "output.show()"
   ]
  },
  {
   "cell_type": "code",
   "execution_count": 60,
   "metadata": {},
   "outputs": [
    {
     "data": {
      "text/plain": [
       "['id',\n",
       " 'name',\n",
       " 'duration',\n",
       " 'energy',\n",
       " 'key',\n",
       " 'loudness',\n",
       " 'mode',\n",
       " 'speechiness',\n",
       " 'acousticness',\n",
       " 'instrumentalness',\n",
       " 'liveness',\n",
       " 'valence',\n",
       " 'tempo',\n",
       " 'danceability',\n",
       " 'VectorAssembler_f7f01a017ef1__output']"
      ]
     },
     "execution_count": 60,
     "metadata": {},
     "output_type": "execute_result"
    }
   ],
   "source": [
    "output.columns"
   ]
  },
  {
   "cell_type": "code",
   "execution_count": 63,
   "metadata": {},
   "outputs": [],
   "source": [
    "finalized_data = output.select('VectorAssembler_f7f01a017ef1__output', 'danceability')"
   ]
  },
  {
   "cell_type": "code",
   "execution_count": null,
   "metadata": {},
   "outputs": [],
   "source": [
    "finalized_data.show()"
   ]
  },
  {
   "cell_type": "code",
   "execution_count": 64,
   "metadata": {},
   "outputs": [],
   "source": [
    "#train test split\n",
    "from pyspark.ml.regression import LinearRegression\n",
    "train_data,test_data = finalized_data.randomSplit([0.75, 0.25])\n",
    "regressor = LinearRegression(featuresCol = 'VectorAssembler_f7f01a017ef1__output', labelCol = 'danceability')\n",
    "regressor = regressor.fit(train_data)"
   ]
  },
  {
   "cell_type": "code",
   "execution_count": 65,
   "metadata": {},
   "outputs": [
    {
     "data": {
      "text/plain": [
       "DenseVector([-0.0, 1.0])"
      ]
     },
     "execution_count": 65,
     "metadata": {},
     "output_type": "execute_result"
    }
   ],
   "source": [
    "#coefficients\n",
    "regressor.coefficients"
   ]
  },
  {
   "cell_type": "code",
   "execution_count": 66,
   "metadata": {},
   "outputs": [
    {
     "data": {
      "text/plain": [
       "3.28857662421453e-16"
      ]
     },
     "execution_count": 66,
     "metadata": {},
     "output_type": "execute_result"
    }
   ],
   "source": [
    "#intercepts\n",
    "regressor.intercept"
   ]
  },
  {
   "cell_type": "code",
   "execution_count": 67,
   "metadata": {},
   "outputs": [],
   "source": [
    "pred_results = regressor.evaluate(test_data)"
   ]
  },
  {
   "cell_type": "code",
   "execution_count": 68,
   "metadata": {},
   "outputs": [
    {
     "name": "stdout",
     "output_type": "stream",
     "text": [
      "+------------------------------------+------------+-------------------+\n",
      "|VectorAssembler_f7f01a017ef1__output|danceability|         prediction|\n",
      "+------------------------------------+------------+-------------------+\n",
      "|                      [87.064,0.443]|       0.443|0.44300000000000006|\n",
      "|                       [90.03,0.677]|       0.677|              0.677|\n",
      "|                      [91.007,0.701]|       0.701| 0.7009999999999998|\n",
      "|                      [92.043,0.731]|       0.731| 0.7309999999999999|\n",
      "|                      [93.023,0.631]|       0.631|              0.631|\n",
      "|                      [94.009,0.889]|       0.889| 0.8889999999999999|\n",
      "|                      [95.977,0.825]|       0.825| 0.8249999999999998|\n",
      "|                      [102.04,0.717]|       0.717| 0.7169999999999999|\n",
      "|                     [102.977,0.702]|       0.702| 0.7019999999999998|\n",
      "|                     [110.011,0.567]|       0.567|              0.567|\n",
      "|                      [110.97,0.764]|       0.764| 0.7639999999999999|\n",
      "|                     [114.988,0.726]|       0.726| 0.7259999999999999|\n",
      "|                     [124.925,0.702]|       0.702| 0.7019999999999998|\n",
      "|                     [124.949,0.776]|       0.776| 0.7759999999999999|\n",
      "|                     [124.987,0.724]|       0.724| 0.7239999999999999|\n",
      "|                     [127.966,0.744]|       0.744| 0.7439999999999999|\n",
      "|                      [133.97,0.704]|       0.704| 0.7039999999999998|\n",
      "|                     [139.863,0.448]|       0.448|              0.448|\n",
      "|                     [151.964,0.487]|       0.487|              0.487|\n",
      "|                      [153.92,0.411]|       0.411|              0.411|\n",
      "+------------------------------------+------------+-------------------+\n",
      "only showing top 20 rows\n",
      "\n"
     ]
    }
   ],
   "source": [
    "pred_results.predictions.show()"
   ]
  },
  {
   "cell_type": "code",
   "execution_count": 69,
   "metadata": {},
   "outputs": [
    {
     "data": {
      "text/plain": [
       "(7.327471962526034e-17, 8.0118685686509e-33)"
      ]
     },
     "execution_count": 69,
     "metadata": {},
     "output_type": "execute_result"
    }
   ],
   "source": [
    "pred_results.meanAbsoluteError,pred_results.meanSquaredError"
   ]
  },
  {
   "cell_type": "code",
   "execution_count": null,
   "metadata": {},
   "outputs": [],
   "source": []
  }
 ],
 "metadata": {
  "kernelspec": {
   "display_name": "Python 3 (ipykernel)",
   "language": "python",
   "name": "python3"
  },
  "orig_nbformat": 4
 },
 "nbformat": 4,
 "nbformat_minor": 2
}
